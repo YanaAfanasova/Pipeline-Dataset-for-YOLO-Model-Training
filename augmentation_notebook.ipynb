{
 "cells": [
  {
   "cell_type": "code",
   "execution_count": 9,
   "id": "482fc8f3-7946-4e89-b65c-9a18f2a7f506",
   "metadata": {},
   "outputs": [
    {
     "name": "stdout",
     "output_type": "stream",
     "text": [
      "Аугментация завершена!\n"
     ]
    }
   ],
   "source": [
    "import os\n",
    "import cv2\n",
    "import albumentations as A\n",
    "\n",
    "# Путь к папке с исходными изображениями\n",
    "input_dir = 'photo_pipeline_for_aug'\n",
    "# Путь к папке для сохранения аугментированных изображений\n",
    "output_dir = 'augg'\n",
    "os.makedirs(output_dir, exist_ok=True)\n",
    "\n",
    "# Определите аугментации\n",
    "transform = A.Compose([\n",
    "    A.HorizontalFlip(p=0.5),\n",
    "    A.RandomBrightnessContrast(p=0.2),\n",
    "    A.Rotate(limit=15, p=0.5),\n",
    "    A.Blur(blur_limit=3, p=0.1),\n",
    "    A.CLAHE(clip_limit=4.0, p=0.1),\n",
    "    A.RandomScale(scale_limit=0.2, p=0.2),\n",
    "    A.Resize(height=512, width=512)\n",
    "])\n",
    "\n",
    "# Функция для аугментации изображения\n",
    "def augment_image(image_path, output_path):\n",
    "    image = cv2.imread(image_path)\n",
    "    image = cv2.cvtColor(image, cv2.COLOR_BGR2RGB)\n",
    "    augmented = transform(image=image)\n",
    "    augmented_image = augmented[\"image\"]\n",
    "    augmented_image = cv2.cvtColor(augmented_image, cv2.COLOR_RGB2BGR)\n",
    "    cv2.imwrite(output_path, augmented_image)\n",
    "\n",
    "# Примените аугментации ко всем изображениям в папке\n",
    "for image_name in os.listdir(input_dir):\n",
    "    if image_name.endswith(('.jpg', '.jpeg', '.png')):\n",
    "        image_path = os.path.join(input_dir, image_name)\n",
    "        output_path = os.path.join(output_dir, f'aug_{image_name}')\n",
    "        augment_image(image_path, output_path)\n",
    "\n",
    "print(\"Аугментация завершена!\")\n"
   ]
  },
  {
   "cell_type": "code",
   "execution_count": 10,
   "id": "c5d1dbf1-08bf-46c3-88cb-cc39db4246be",
   "metadata": {},
   "outputs": [
    {
     "name": "stdout",
     "output_type": "stream",
     "text": [
      "Аугментация завершена!\n"
     ]
    }
   ],
   "source": [
    "import os\n",
    "import cv2\n",
    "import albumentations as A\n",
    "\n",
    "# Путь к папке с исходными изображениями\n",
    "input_dir = 'photo_pipeline_for_aug'\n",
    "# Путь к папке для сохранения аугментированных изображений\n",
    "output_dir = 'augg'\n",
    "os.makedirs(output_dir, exist_ok=True)\n",
    "\n",
    "# Определите аугментации\n",
    "transform = A.Compose([\n",
    "    A.HorizontalFlip(p=0.5),\n",
    "    A.VerticalFlip(p=0.5),\n",
    "    A.RandomBrightnessContrast(p=0.2),\n",
    "    A.Rotate(limit=45, p=0.5),\n",
    "    A.Blur(blur_limit=3, p=0.1),\n",
    "    A.CLAHE(clip_limit=4.0, p=0.1),\n",
    "    A.RandomScale(scale_limit=0.2, p=0.2),\n",
    "    A.RGBShift(p=0.1),\n",
    "    A.RandomGamma(p=0.1),\n",
    "    A.RandomShadow(p=0.2),\n",
    "    A.RandomSnow(p=0.1),\n",
    "    A.RandomRain(p=0.1),\n",
    "    A.RandomFog(p=0.1),\n",
    "    A.RandomSunFlare(p=0.1),\n",
    "    A.RandomCrop(height=400, width=400, p=0.5),\n",
    "    A.Resize(height=512, width=512)\n",
    "])\n",
    "\n",
    "# Функция для аугментации изображения\n",
    "def augment_image(image_path, output_dir, num_augmented_copies=5):\n",
    "    image = cv2.imread(image_path)\n",
    "    image = cv2.cvtColor(image, cv2.COLOR_BGR2RGB)\n",
    "    for i in range(num_augmented_copies):\n",
    "        augmented = transform(image=image)\n",
    "        augmented_image = augmented[\"image\"]\n",
    "        augmented_image = cv2.cvtColor(augmented_image, cv2.COLOR_RGB2BGR)\n",
    "        output_path = os.path.join(output_dir, f'aug_{i}_{os.path.basename(image_path)}')\n",
    "        cv2.imwrite(output_path, augmented_image)\n",
    "\n",
    "# Примените аугментации ко всем изображениям в папке\n",
    "for image_name in os.listdir(input_dir):\n",
    "    if image_name.endswith(('.jpg', '.jpeg', '.png')):\n",
    "        image_path = os.path.join(input_dir, image_name)\n",
    "        augment_image(image_path, output_dir)\n",
    "\n",
    "print(\"Аугментация завершена!\")\n"
   ]
  },
  {
   "cell_type": "code",
   "execution_count": null,
   "id": "869e8fc0-d87d-4be2-9825-a1b7ea9956cf",
   "metadata": {},
   "outputs": [],
   "source": []
  }
 ],
 "metadata": {
  "kernelspec": {
   "display_name": "Python 3 (ipykernel)",
   "language": "python",
   "name": "python3"
  },
  "language_info": {
   "codemirror_mode": {
    "name": "ipython",
    "version": 3
   },
   "file_extension": ".py",
   "mimetype": "text/x-python",
   "name": "python",
   "nbconvert_exporter": "python",
   "pygments_lexer": "ipython3",
   "version": "3.12.3"
  }
 },
 "nbformat": 4,
 "nbformat_minor": 5
}
